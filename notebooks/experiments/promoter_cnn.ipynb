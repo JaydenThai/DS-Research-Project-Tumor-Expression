{
 "cells": [
  {
   "cell_type": "markdown",
   "id": "d229f096",
   "metadata": {},
   "source": [
    "# Promoter CNN Model (Sequence Only) - 5 Component Prediction\n",
    "\n",
    "A Convolutional Neural Network that predicts 5-component probabilities from promoter sequences.\n",
    "Chromosome feature has been removed to focus only on sequence information.\n",
    "\n",
    "This notebook implements a CNN model for predicting 5-component probabilities from DNA promoter sequences, providing an end-to-end solution for:\n",
    "- Data loading and preprocessing\n",
    "- Model architecture definition\n",
    "- Training and validation\n",
    "- Performance evaluation\n",
    "- Visualization of results"
   ]
  },
  {
   "cell_type": "code",
   "execution_count": 36,
   "id": "83cc5941",
   "metadata": {},
   "outputs": [
    {
     "name": "stdout",
     "output_type": "stream",
     "text": [
      "PyTorch version: 2.5.1\n",
      "CUDA available: False\n",
      "MPS available: True\n"
     ]
    }
   ],
   "source": [
    "#!/usr/bin/env python3\n",
    "\"\"\"\n",
    "Required imports for the CNN model implementation\n",
    "\"\"\"\n",
    "\n",
    "import pandas as pd\n",
    "import numpy as np\n",
    "import torch\n",
    "import torch.nn as nn\n",
    "import torch.nn.functional as F\n",
    "import torch.optim as optim\n",
    "from torch.utils.data import Dataset, DataLoader\n",
    "from sklearn.model_selection import train_test_split, KFold\n",
    "from sklearn.metrics import mean_squared_error, r2_score\n",
    "import matplotlib.pyplot as plt\n",
    "import seaborn as sns\n",
    "from typing import Tuple, Dict, List, Any\n",
    "import warnings\n",
    "import time\n",
    "import random\n",
    "import itertools\n",
    "import pickle\n",
    "from datetime import datetime\n",
    "from dataclasses import dataclass\n",
    "\n",
    "warnings.filterwarnings('ignore')\n",
    "\n",
    "@dataclass\n",
    "class TrialResult:\n",
    "    \"\"\"Data class to store hyperparameter trial results\"\"\"\n",
    "    config: Dict[str, Any]\n",
    "    val_loss: float\n",
    "    val_losses: List[float] = None\n",
    "    train_losses: List[float] = None\n",
    "    params: int = 0\n",
    "    duration_s: float = 0.0\n",
    "    epochs_trained: int = 0\n",
    "    final_lr: float = 0.0\n",
    "    cv_scores: List[float] = None\n",
    "    cv_mean: float = None\n",
    "    cv_std: float = None\n",
    "\n",
    "print(f\"PyTorch version: {torch.__version__}\")\n",
    "print(f\"CUDA available: {torch.cuda.is_available()}\")\n",
    "print(f\"MPS available: {getattr(torch.backends, 'mps', None) is not None and torch.backends.mps.is_available()}\")"
   ]
  },
  {
   "cell_type": "code",
   "execution_count": 37,
   "id": "100ed3d3",
   "metadata": {},
   "outputs": [
    {
     "name": "stdout",
     "output_type": "stream",
     "text": [
      "Added to sys.path: /Users/jaydenthai/Dev/University Work/2025sem2/Data Science Research Project /DS-Research-Project-Tumor-Expression\n"
     ]
    }
   ],
   "source": [
    "# Ensure project root is on sys.path for `src` imports\n",
    "import sys, os\n",
    "repo_root = os.path.abspath(os.path.join(os.getcwd(), '..', '..'))\n",
    "if repo_root not in sys.path:\n",
    "    sys.path.insert(0, repo_root)\n",
    "print('Added to sys.path:', repo_root)\n"
   ]
  },
  {
   "cell_type": "markdown",
   "id": "6618cd2d",
   "metadata": {},
   "source": [
    "## Data Processing and Dataset Class\n",
    "\n",
    "The `PromoterDataset` class handles the preprocessing of DNA sequences:\n",
    "- Encodes DNA sequences into numerical representations\n",
    "- Converts sequences to one-hot encoding for CNN input\n",
    "- Handles sequence length standardization"
   ]
  },
  {
   "cell_type": "code",
   "execution_count": 38,
   "id": "2c1c204a",
   "metadata": {},
   "outputs": [],
   "source": [
    "from src.utils.data import PromoterClassificationDataset, load_and_prepare_data_classification"
   ]
  },
  {
   "cell_type": "markdown",
   "id": "19d00f8e",
   "metadata": {},
   "source": [
    "## Simple CNN Model Architecture\n",
    "\n",
    "The `PromoterCNN` class implements a lightweight convolutional neural network:\n",
    "\n",
    "- **Input**: One-hot encoded DNA sequences (5 channels: A, T, G, C, N)\n",
    "- **Architecture**: Two simple convolutional blocks + global pooling\n",
    "- **Output**: 4-component probability distribution (softmax normalized)\n",
    "\n",
    "This simplified model focuses on fast training while still capturing sequence patterns."
   ]
  },
  {
   "cell_type": "code",
   "execution_count": 39,
   "id": "82e506c3",
   "metadata": {},
   "outputs": [],
   "source": [
    "from src.models.cnn import PromoterCNN\n"
   ]
  },
  {
   "cell_type": "markdown",
   "id": "299266a0",
   "metadata": {},
   "source": [
    "## Data Loading and Preparation\n",
    "\n",
    "Functions for loading the processed data and preparing it for training:"
   ]
  },
  {
   "cell_type": "code",
   "execution_count": 40,
   "id": "ce8ee2dc",
   "metadata": {},
   "outputs": [],
   "source": [
    "# Use shared loader from src for classification\n",
    "from src.utils.data import load_and_prepare_data_classification as load_and_prepare_data"
   ]
  },
  {
   "cell_type": "markdown",
   "id": "8e03d116",
   "metadata": {},
   "source": [
    "## Training and Validation Functions\n",
    "\n",
    "Functions for training and validating the model:"
   ]
  },
  {
   "cell_type": "code",
   "execution_count": 41,
   "id": "b05f4b32",
   "metadata": {},
   "outputs": [],
   "source": [
    "from src.utils.training import (\n",
    "    train_epoch_ce as train_epoch,\n",
    "    validate_epoch_ce as validate_epoch,\n",
    "    evaluate_model_ce as evaluate_model,\n",
    ")\n",
    "from src.utils.device import DeviceManager, create_device_manager"
   ]
  },
  {
   "cell_type": "code",
   "execution_count": 42,
   "id": "a047d141",
   "metadata": {},
   "outputs": [
    {
     "name": "stdout",
     "output_type": "stream",
     "text": [
      "Using device: mps (mps)\n"
     ]
    }
   ],
   "source": [
    "# Device selection with unified interface\n",
    "device_manager = create_device_manager(prefer_cuda=True, verbose=True)\n",
    "print(f\"Using device: {device_manager.device} ({device_manager.device_name})\")\n",
    "\n",
    "# For backward compatibility with existing code\n",
    "device = device_manager.device\n",
    "device_name = device_manager.device_name\n",
    "loader_kwargs = device_manager.loader_kwargs\n"
   ]
  },
  {
   "cell_type": "markdown",
   "id": "ce929637",
   "metadata": {},
   "source": [
    "## Visualization and Results Analysis\n",
    "\n",
    "Functions for plotting training results and model performance:"
   ]
  },
  {
   "cell_type": "code",
   "execution_count": 43,
   "id": "c9955c6e",
   "metadata": {},
   "outputs": [],
   "source": [
    "def plot_results(train_losses, val_losses, metrics):\n",
    "    \"\"\"Plot training results and model performance for classification\"\"\"\n",
    "    fig, axes = plt.subplots(1, 2, figsize=(12, 5))\n",
    "\n",
    "    # Training curves\n",
    "    axes[0].plot(train_losses, label='Train Loss', color='blue', alpha=0.7)\n",
    "    axes[0].plot(val_losses, label='Validation Loss', color='red', alpha=0.7)\n",
    "    axes[0].set_xlabel('Epoch')\n",
    "    axes[0].set_ylabel('Loss (Cross-Entropy)')\n",
    "    axes[0].set_title('Training Curves')\n",
    "    axes[0].legend()\n",
    "    axes[0].grid(True, alpha=0.3)\n",
    "\n",
    "    # Classification metrics bar plot\n",
    "    classes = [f'C{i+1}' for i in range(5)]\n",
    "    axes[1].bar(classes, [metrics['per_class_accuracy'][i] for i in range(5)], color='green', alpha=0.7)\n",
    "    axes[1].set_ylim(0, 1)\n",
    "    axes[1].set_ylabel('Accuracy')\n",
    "    axes[1].set_title('Per-Class Accuracy')\n",
    "    axes[1].grid(True, alpha=0.3)\n",
    "\n",
    "    plt.tight_layout()\n",
    "    plt.savefig('../../results/plots/cnn_results.png', dpi=300, bbox_inches='tight')\n",
    "    plt.show()"
   ]
  },
  {
   "cell_type": "markdown",
   "id": "642bb68a",
   "metadata": {},
   "source": [
    "## Prediction Function\n",
    "\n",
    "Function for making predictions on new sequences:"
   ]
  },
  {
   "cell_type": "code",
   "execution_count": 44,
   "id": "0daebd6f",
   "metadata": {},
   "outputs": [],
   "source": [
    "def predict_component_probabilities(model, sequence: str, device_manager) -> dict:\n",
    "    \"\"\"Predict component probabilities for a new sequence\"\"\"\n",
    "    \n",
    "    model.eval()\n",
    "    \n",
    "    # Create temporary dataset for encoding\n",
    "    temp_dataset = PromoterDataset([sequence], np.array([[0, 0, 0, 0, 0]], dtype=np.float32))\n",
    "    \n",
    "    # Encode sequence\n",
    "    encoded_seq = temp_dataset.encode_sequence(sequence)\n",
    "    \n",
    "    # Convert to tensor using device manager\n",
    "    sequence_tensor = device_manager.to_device(torch.FloatTensor(encoded_seq).unsqueeze(0))\n",
    "    \n",
    "    # Predict\n",
    "    with torch.no_grad():\n",
    "        logits = model(sequence_tensor)\n",
    "        probs = torch.softmax(logits, dim=1)\n",
    "    \n",
    "    probabilities = probs.cpu().numpy()[0]\n",
    "    predicted_component = int(np.argmax(probabilities) + 1)\n",
    "    confidence = float(np.max(probabilities))\n",
    "    \n",
    "    return {\n",
    "        'component_1_prob': float(probabilities[0]),\n",
    "        'component_2_prob': float(probabilities[1]),\n",
    "        'component_3_prob': float(probabilities[2]),\n",
    "        'component_4_prob': float(probabilities[3]),\n",
    "        'component_5_prob': float(probabilities[4]),\n",
    "        'predicted_component': predicted_component,\n",
    "        'confidence': confidence,\n",
    "        'interpretation': f\"Predicted Component {predicted_component} with {confidence:.1%} confidence\"\n",
    "    }"
   ]
  },
  {
   "cell_type": "markdown",
   "id": "7e441bba",
   "metadata": {},
   "source": [
    "## Main Execution Pipeline\n",
    "\n",
    "Now let's run the complete training and evaluation pipeline:"
   ]
  },
  {
   "cell_type": "code",
   "execution_count": 45,
   "id": "b75a07ad",
   "metadata": {},
   "outputs": [
    {
     "name": "stdout",
     "output_type": "stream",
     "text": [
      "\n",
      "Data statistics:\n",
      "Total samples: 8304\n",
      "Label shape: (8304,)\n",
      "Class distribution: {0: 657, 1: 2814, 2: 873, 3: 1696, 4: 2264}\n",
      "labels:  [4 3 4 ... 3 0 3]\n",
      "sequences[0]:  AAGCTGCACAGTCGAGCCTGCGGCTCCGCAGCCGAATAGAGCGGAAATGCCCTCTCAGGGCATCAAAGAGCAACAAGCTGCCACTGTAAGAGGGGCCCAGACCCGCAGCGATTTTCAGCACTTCCAAGGCCTGCAGGCAGCCCAGGACCCCGGTAACGACACCGAGCACCCCGCCGTCCGCGCAGTTGGTCACTGTCTCCGCTGGGGGTGGTTGGGGGAATATGCAGCGATAGCAAGGGCCACCGTCATAATGGTAGACTGTGATTTGGCCCTCGAAGCGCAAGGCACTGGCAGACACGAGGGGCCGACCCGCCAGCACACATGCGTCATTAACCAGGTAGCGAGTGGGCACGTTGTCCGAGCAGTCAGCCACCACATCATATCGGCGGACCAGGTCTAGGGCAGTGGCTGGCGTAAGGGCCTGAGTGTACGGCACGCATTCCACTGCCGAATTGAGGCGGCGCAGCGAGGCGGCGGCCGAAAAGGCCTTGGCCTGGCCAGCCAGTGCCTCGCCATGCAGCACTTGGCGGGCCAGGTTGCTCATCTCTACCACGTCATAGTCCACAAGGCCAAGGCGGCCCACGCCGGCCGCTGCCAAGT\n"
     ]
    }
   ],
   "source": [
    "# Load data for classification\n",
    "sequences, labels = load_and_prepare_data('../../data/processed/ProSeq_with_5component_analysis.csv')\n",
    "\n",
    "# Show data statistics\n",
    "print(f\"\\nData statistics:\")\n",
    "print(f\"Total samples: {len(sequences)}\")\n",
    "print(f\"Label shape: {labels.shape}\")\n",
    "unique, counts = np.unique(labels, return_counts=True)\n",
    "print(\"Class distribution:\", dict(zip(unique.tolist(), counts.tolist())))\n",
    "\n",
    "print(\"labels: \", labels)\n",
    "print(\"sequences[0]: \", sequences[0])\n"
   ]
  },
  {
   "cell_type": "code",
   "execution_count": 46,
   "id": "e2627a8f",
   "metadata": {},
   "outputs": [
    {
     "name": "stdout",
     "output_type": "stream",
     "text": [
      "\n",
      "Data splits:\n",
      "  Train: 5314, Val: 1329, Test: 1661\n"
     ]
    }
   ],
   "source": [
    "# Split data (stratified by label)\n",
    "train_seq, test_seq, train_labels, test_labels = train_test_split(\n",
    "    sequences, labels, test_size=0.2, random_state=42, stratify=labels\n",
    ")\n",
    "\n",
    "train_seq, val_seq, train_labels, val_labels = train_test_split(\n",
    "    train_seq, train_labels, test_size=0.2, random_state=42, stratify=train_labels\n",
    ")\n",
    "\n",
    "print(f\"\\nData splits:\")\n",
    "print(f\"  Train: {len(train_seq)}, Val: {len(val_seq)}, Test: {len(test_seq)}\")\n",
    "\n",
    "# Create datasets\n",
    "train_dataset = PromoterClassificationDataset(train_seq, train_labels)\n",
    "val_dataset = PromoterClassificationDataset(val_seq, val_labels)\n",
    "test_dataset = PromoterClassificationDataset(test_seq, test_labels)\n",
    "\n",
    "# Create data loaders using device manager\n",
    "batch_size = 32\n",
    "train_loader = DataLoader(train_dataset, batch_size=batch_size, shuffle=True, **device_manager.get_dataloader_kwargs())\n",
    "val_loader = DataLoader(val_dataset, batch_size=batch_size, shuffle=False, **device_manager.get_dataloader_kwargs())\n",
    "test_loader = DataLoader(test_dataset, batch_size=batch_size, shuffle=False, **device_manager.get_dataloader_kwargs())"
   ]
  },
  {
   "cell_type": "code",
   "execution_count": 47,
   "id": "a5331d75",
   "metadata": {},
   "outputs": [],
   "source": [
    "class HyperparameterTuner:\n",
    "    \"\"\"Comprehensive hyperparameter tuning for PromoterCNN\"\"\"\n",
    "    \n",
    "    def __init__(self, train_dataset, val_dataset, device_manager):\n",
    "        self.train_dataset = train_dataset\n",
    "        self.val_dataset = val_dataset\n",
    "        self.device_manager = device_manager\n",
    "        self.device = device_manager.device  # For backward compatibility\n",
    "        self.results = []\n",
    "        \n",
    "        # Simplified search space for basic tuning\n",
    "        self.SEARCH_SPACE = {\n",
    "            'depth': [1, 2, 3, 4],\n",
    "            'base_channels': [16, 24, 32, 48],\n",
    "            'dropout': [0.2, 0.3, 0.4, 0.5],\n",
    "            'optimizer': ['adam', 'adamw'],\n",
    "            'lr': [1e-3, 3e-3],\n",
    "            'weight_decay': [1e-5, 1e-4],\n",
    "            'batch_size': [32, 64],\n",
    "            'scheduler': ['plateau', 'cosine'],\n",
    "            'loss_function': ['kldiv', 'mse']\n",
    "        }\n",
    "    \n",
    "    def create_optimizer(self, model, config):\n",
    "        \"\"\"Create optimizer based on configuration\"\"\"\n",
    "        if config['optimizer'] == 'adam':\n",
    "            return optim.Adam(model.parameters(), lr=config['lr'], weight_decay=config['weight_decay'])\n",
    "        elif config['optimizer'] == 'adamw':\n",
    "            return optim.AdamW(model.parameters(), lr=config['lr'], weight_decay=config['weight_decay'])\n",
    "        else:\n",
    "            return optim.Adam(model.parameters(), lr=config['lr'], weight_decay=config['weight_decay'])\n",
    "    \n",
    "    def create_scheduler(self, optimizer, config):\n",
    "        \"\"\"Create learning rate scheduler\"\"\"\n",
    "        if config.get('scheduler') == 'plateau':\n",
    "            return optim.lr_scheduler.ReduceLROnPlateau(optimizer, patience=5, factor=0.5)\n",
    "        elif config.get('scheduler') == 'cosine':\n",
    "            return optim.lr_scheduler.CosineAnnealingLR(optimizer, T_max=30)\n",
    "        return None\n",
    "    \n",
    "    def create_criterion(self, config):\n",
    "        \"\"\"Create loss function\"\"\"\n",
    "        if config.get('loss_function') == 'kldiv':\n",
    "            return nn.KLDivLoss(reduction='batchmean')\n",
    "        else:\n",
    "            return nn.MSELoss()\n",
    "    \n",
    "    def run_trial(self, config, max_epochs=25):\n",
    "        \"\"\"Run a single trial with given configuration\"\"\"\n",
    "        try:\n",
    "            # Create model\n",
    "            model = PromoterCNN(\n",
    "                num_blocks=config['depth'],\n",
    "                base_channels=config['base_channels'],\n",
    "                dropout=config['dropout'],\n",
    "                num_components=5\n",
    "            ).to(self.device)\n",
    "            \n",
    "            # Create data loaders\n",
    "            train_loader = DataLoader(self.train_dataset, batch_size=config['batch_size'], shuffle=True)\n",
    "            val_loader = DataLoader(self.val_dataset, batch_size=config['batch_size'], shuffle=False)\n",
    "            \n",
    "            # Create optimizer, scheduler, criterion\n",
    "            optimizer = self.create_optimizer(model, config)\n",
    "            scheduler = self.create_scheduler(optimizer, config)\n",
    "            criterion = self.create_criterion(config)\n",
    "            \n",
    "            # Training loop\n",
    "            best_val_loss = float('inf')\n",
    "            for epoch in range(max_epochs):\n",
    "                train_loss = train_epoch(model, train_loader, criterion, optimizer, self.device)\n",
    "                val_loss = validate_epoch(model, val_loader, criterion, self.device)\n",
    "                \n",
    "                if scheduler:\n",
    "                    if isinstance(scheduler, optim.lr_scheduler.ReduceLROnPlateau):\n",
    "                        scheduler.step(val_loss)\n",
    "                    else:\n",
    "                        scheduler.step()\n",
    "                \n",
    "                if val_loss < best_val_loss:\n",
    "                    best_val_loss = val_loss\n",
    "            \n",
    "            return TrialResult(\n",
    "                config=config,\n",
    "                val_loss=best_val_loss,\n",
    "                params=sum(p.numel() for p in model.parameters()),\n",
    "                epochs_trained=max_epochs\n",
    "            )\n",
    "        except Exception as e:\n",
    "            print(f\"Trial failed: {e}\")\n",
    "            return TrialResult(config=config, val_loss=float('inf'))\n",
    "    \n",
    "    def random_search(self, num_trials=10):\n",
    "        \"\"\"Simple random search\"\"\"\n",
    "        results = []\n",
    "        for i in range(num_trials):\n",
    "            config = {k: random.choice(v) for k, v in self.SEARCH_SPACE.items()}\n",
    "            result = self.run_trial(config)\n",
    "            results.append(result)\n",
    "            print(f\"Trial {i+1}/{num_trials}: Loss = {result.val_loss:.6f}\")\n",
    "        return results\n",
    "\n",
    "# Create a simplified tuner for basic functionality\n",
    "tuner = HyperparameterTuner(train_dataset, val_dataset, device_manager)\n"
   ]
  },
  {
   "cell_type": "code",
   "execution_count": 48,
   "id": "bdf69528",
   "metadata": {},
   "outputs": [
    {
     "name": "stdout",
     "output_type": "stream",
     "text": [
      "\n",
      "📊 TRAINING CONFIGURATION\n",
      "==================================================\n",
      "Architecture: depth=2, channels=32, dropout=0.3\n",
      "Training: lr=0.001, weight_decay=0.0001, batch_size=32\n",
      "Optimizer: adam\n",
      "\n",
      "💡 To optimize these hyperparameters, run the separate hyperparameter_optimization.ipynb notebook\n"
     ]
    }
   ],
   "source": [
    "# Model Training Configuration\n",
    "print(f\"\\n📊 TRAINING CONFIGURATION\")\n",
    "print(\"=\"*50)\n",
    "\n",
    "# Use simple default hyperparameters for now\n",
    "# Run hyperparameter_optimization.ipynb separately to find optimal values\n",
    "model_config = {\n",
    "    'depth': 2,\n",
    "    'base_channels': 32, \n",
    "    'dropout': 0.3,\n",
    "    'lr': 1e-3,\n",
    "    'weight_decay': 1e-4,\n",
    "    'batch_size': 32,\n",
    "    'optimizer': 'adam'\n",
    "}\n",
    "\n",
    "print(f\"Architecture: depth={model_config['depth']}, channels={model_config['base_channels']}, dropout={model_config['dropout']}\")\n",
    "print(f\"Training: lr={model_config['lr']}, weight_decay={model_config['weight_decay']}, batch_size={model_config['batch_size']}\")\n",
    "print(f\"Optimizer: {model_config['optimizer']}\")\n",
    "print(\"\\n💡 To optimize these hyperparameters, run the separate hyperparameter_optimization.ipynb notebook\")\n"
   ]
  },
  {
   "cell_type": "code",
   "execution_count": 49,
   "id": "7d4c93ce",
   "metadata": {},
   "outputs": [
    {
     "name": "stdout",
     "output_type": "stream",
     "text": [
      "Skipping hyperparameter tuning phase to run a lean classification training.\n"
     ]
    }
   ],
   "source": [
    "# Skipping extensive hyperparameter tuning for this classification run\n",
    "best_cfg = None\n",
    "print(\"Skipping hyperparameter tuning phase to run a lean classification training.\")\n"
   ]
  },
  {
   "cell_type": "code",
   "execution_count": 50,
   "id": "0132422a",
   "metadata": {},
   "outputs": [
    {
     "name": "stdout",
     "output_type": "stream",
     "text": [
      "\n",
      "================================================================================\n",
      "🚀 TRAINING FINAL MODEL WITH BEST CONFIGURATION\n",
      "================================================================================\n",
      "\n",
      "⚠️  Using default hyperparameters (tuning not completed):\n",
      "\n",
      "📊 Final Training Configuration:\n",
      "  Architecture: depth=2, base_channels=32, dropout=0.3\n",
      "  Training: optimizer=adam, lr=0.001, weight_decay=0.0001\n",
      "  Batch size: 32\n",
      "  Scheduler: plateau\n",
      "  Loss function: kldiv\n"
     ]
    }
   ],
   "source": [
    "# 🎯 FINAL MODEL TRAINING WITH OPTIMIZED HYPERPARAMETERS\n",
    "print(f\"\\n\" + \"=\"*80)\n",
    "print(\"🚀 TRAINING FINAL MODEL WITH BEST CONFIGURATION\")\n",
    "print(\"=\"*80)\n",
    "\n",
    "# Apply tuned hyperparameters from comprehensive search\n",
    "if 'best_cfg' in globals() and best_cfg:\n",
    "    print(f\"\\n✅ Using optimized hyperparameters from comprehensive tuning:\")\n",
    "    for key, value in best_cfg.items():\n",
    "        print(f\"  {key}: {value}\")\n",
    "    \n",
    "    # Extract optimized values\n",
    "    model_depth = best_cfg.get('depth', 2)\n",
    "    base_channels = best_cfg.get('base_channels', 32)\n",
    "    tuned_dropout = best_cfg.get('dropout', 0.3)\n",
    "    tuned_lr = best_cfg.get('lr', 1e-3)\n",
    "    tuned_wd = best_cfg.get('weight_decay', 1e-4)\n",
    "    tuned_bs = best_cfg.get('batch_size', 32)\n",
    "    tuned_optimizer = best_cfg.get('optimizer', 'adam')\n",
    "    tuned_scheduler = best_cfg.get('scheduler', 'plateau')\n",
    "    tuned_loss_function = best_cfg.get('loss_function', 'kldiv')\n",
    "else:\n",
    "    print(f\"\\n⚠️  Using default hyperparameters (tuning not completed):\")\n",
    "    model_depth = 2\n",
    "    base_channels = 32\n",
    "    tuned_dropout = 0.3\n",
    "    tuned_lr = 1e-3\n",
    "    tuned_wd = 1e-4\n",
    "    tuned_bs = 32\n",
    "    tuned_optimizer = 'adam'\n",
    "    tuned_scheduler = 'plateau'\n",
    "    tuned_loss_function = 'kldiv'\n",
    "\n",
    "# Rebuild loaders with optimized batch size\n",
    "train_loader = DataLoader(train_dataset, batch_size=tuned_bs, shuffle=True, num_workers=0)\n",
    "val_loader = DataLoader(val_dataset, batch_size=tuned_bs, shuffle=False, num_workers=0)\n",
    "test_loader = DataLoader(test_dataset, batch_size=tuned_bs, shuffle=False, num_workers=0)\n",
    "\n",
    "print(f\"\\n📊 Final Training Configuration:\")\n",
    "print(f\"  Architecture: depth={model_depth}, base_channels={base_channels}, dropout={tuned_dropout}\")\n",
    "print(f\"  Training: optimizer={tuned_optimizer}, lr={tuned_lr}, weight_decay={tuned_wd}\")\n",
    "print(f\"  Batch size: {tuned_bs}\")\n",
    "print(f\"  Scheduler: {tuned_scheduler}\")\n",
    "print(f\"  Loss function: {tuned_loss_function}\")\n"
   ]
  },
  {
   "cell_type": "code",
   "execution_count": 51,
   "id": "ae965800",
   "metadata": {},
   "outputs": [
    {
     "name": "stdout",
     "output_type": "stream",
     "text": [
      "\n",
      "🏗️  Model Architecture:\n",
      "  Total parameters: 9,157\n",
      "  Depth: 2 blocks\n",
      "  Base channels: 32\n",
      "  Dropout: 0.3\n",
      "  Device: mps (mps)\n",
      "\n",
      "⚙️  Training Setup:\n",
      "  Optimizer: adam\n",
      "  Learning rate: 0.001\n",
      "  Weight decay: 0.0001\n",
      "  Scheduler: plateau\n",
      "  Loss function: cross_entropy\n",
      "  Max epochs: 50\n"
     ]
    }
   ],
   "source": [
    "# Create optimized model for classification\n",
    "model = PromoterCNN(num_blocks=model_depth, base_channels=base_channels, dropout=tuned_dropout, num_classes=5)\n",
    "model = device_manager.create_model_wrapper(model)\n",
    "\n",
    "total_params = sum(p.numel() for p in model.parameters())\n",
    "print(f\"\\n🏗️  Model Architecture:\")\n",
    "print(f\"  Total parameters: {total_params:,}\")\n",
    "print(f\"  Depth: {model_depth} blocks\")\n",
    "print(f\"  Base channels: {base_channels}\")\n",
    "print(f\"  Dropout: {tuned_dropout}\")\n",
    "print(f\"  Device: {device_manager.device} ({device_manager.device_name})\")\n",
    "\n",
    "# Training components\n",
    "temp_config = {\n",
    "    'optimizer': tuned_optimizer,\n",
    "    'lr': tuned_lr,\n",
    "    'weight_decay': tuned_wd,\n",
    "    'scheduler': tuned_scheduler,\n",
    "}\n",
    "\n",
    "optimizer = tuner.create_optimizer(model, temp_config)\n",
    "scheduler = tuner.create_scheduler(optimizer, temp_config)\n",
    "criterion = nn.CrossEntropyLoss()\n",
    "\n",
    "# Training configuration\n",
    "num_epochs = 50  # classification typically converges faster\n",
    "learning_rate = tuned_lr\n",
    "\n",
    "print(f\"\\n⚙️  Training Setup:\")\n",
    "print(f\"  Optimizer: {tuned_optimizer}\")\n",
    "print(f\"  Learning rate: {learning_rate}\")\n",
    "print(f\"  Weight decay: {tuned_wd}\")\n",
    "print(f\"  Scheduler: {tuned_scheduler}\")\n",
    "print(f\"  Loss function: cross_entropy\")\n",
    "print(f\"  Max epochs: {num_epochs}\")"
   ]
  },
  {
   "cell_type": "code",
   "execution_count": 52,
   "id": "f92e9823",
   "metadata": {},
   "outputs": [
    {
     "name": "stdout",
     "output_type": "stream",
     "text": [
      "\n",
      "🏁 Starting optimized training for 50 epochs...\n",
      "Early stopping patience: 10 epochs\n",
      "🎯 New best model saved! Val Loss: 1.491574\n",
      "Epoch [  1/50] - Train: 1.493432, Val: 1.491574, LR: 1.00e-03, Time: 1.8s, Bad: 0/10\n",
      "🎯 New best model saved! Val Loss: 1.484680\n",
      "Epoch [  2/50] - Train: 1.487047, Val: 1.484680, LR: 1.00e-03, Time: 1.7s, Bad: 0/10\n",
      "Epoch [  3/50] - Train: 1.486918, Val: 1.487238, LR: 1.00e-03, Time: 1.6s, Bad: 1/10\n",
      "Epoch [  4/50] - Train: 1.487168, Val: 1.486353, LR: 1.00e-03, Time: 1.7s, Bad: 2/10\n",
      "🎯 New best model saved! Val Loss: 1.484406\n",
      "Epoch [  5/50] - Train: 1.482534, Val: 1.484406, LR: 1.00e-03, Time: 1.7s, Bad: 0/10\n",
      "🎯 New best model saved! Val Loss: 1.483645\n",
      "Epoch [  6/50] - Train: 1.481263, Val: 1.483645, LR: 1.00e-03, Time: 1.6s, Bad: 0/10\n",
      "Epoch [  7/50] - Train: 1.483231, Val: 1.483686, LR: 1.00e-03, Time: 1.6s, Bad: 1/10\n",
      "🎯 New best model saved! Val Loss: 1.482638\n",
      "Epoch [  8/50] - Train: 1.485422, Val: 1.482638, LR: 1.00e-03, Time: 1.6s, Bad: 0/10\n",
      "🎯 New best model saved! Val Loss: 1.481980\n",
      "Epoch [  9/50] - Train: 1.482469, Val: 1.481980, LR: 1.00e-03, Time: 1.7s, Bad: 0/10\n",
      "Epoch [ 10/50] - Train: 1.484585, Val: 1.483829, LR: 1.00e-03, Time: 1.6s, Bad: 1/10\n",
      "Epoch [ 11/50] - Train: 1.482588, Val: 1.483923, LR: 1.00e-03, Time: 1.6s, Bad: 2/10\n",
      "🎯 New best model saved! Val Loss: 1.481641\n",
      "Epoch [ 16/50] - Train: 1.478863, Val: 1.487123, LR: 1.00e-03, Time: 1.8s, Bad: 4/10\n",
      "🎯 New best model saved! Val Loss: 1.480264\n",
      "🎯 New best model saved! Val Loss: 1.480088\n",
      "Epoch [ 21/50] - Train: 1.476018, Val: 1.485251, LR: 1.00e-03, Time: 1.7s, Bad: 1/10\n",
      "🎯 New best model saved! Val Loss: 1.479257\n",
      "Epoch [ 26/50] - Train: 1.471427, Val: 1.487558, LR: 1.00e-03, Time: 1.7s, Bad: 2/10\n",
      "🎯 New best model saved! Val Loss: 1.478717\n",
      "🎯 New best model saved! Val Loss: 1.478275\n",
      "🎯 New best model saved! Val Loss: 1.477888\n",
      "Epoch [ 31/50] - Train: 1.467626, Val: 1.477888, LR: 1.00e-03, Time: 1.7s, Bad: 0/10\n",
      "Epoch [ 36/50] - Train: 1.465392, Val: 1.477992, LR: 1.00e-03, Time: 1.5s, Bad: 5/10\n",
      "Epoch [ 38/50] - Train: 1.461093, Val: 1.482740, LR: 5.00e-04, Time: 1.5s, Bad: 7/10\n",
      "Epoch [ 39/50] - Train: 1.460697, Val: 1.478072, LR: 5.00e-04, Time: 1.5s, Bad: 8/10\n",
      "Epoch [ 40/50] - Train: 1.461343, Val: 1.480062, LR: 5.00e-04, Time: 1.7s, Bad: 9/10\n",
      "⏹️  Early stopping at epoch 41. Best Val Loss: 1.477888\n",
      "\n",
      "✅ Training completed in 69.0 seconds (1.2 minutes)\n",
      "Best validation loss: 1.477888\n",
      "Total epochs trained: 41\n"
     ]
    }
   ],
   "source": [
    "# 🏃‍♂️ OPTIMIZED TRAINING LOOP (Classification)\n",
    "train_losses = []\n",
    "val_losses = []\n",
    "best_val_loss = float('inf')\n",
    "bad_epochs = 0\n",
    "max_bad_epochs = 10\n",
    "\n",
    "print(f\"\\n🏁 Starting optimized training for {num_epochs} epochs...\")\n",
    "print(f\"Early stopping patience: {max_bad_epochs} epochs\")\n",
    "\n",
    "start_time = time.time()\n",
    "\n",
    "for epoch in range(num_epochs):\n",
    "    epoch_start = time.time()\n",
    "\n",
    "    train_loss = train_epoch(model, train_loader, criterion, optimizer, device_manager.device)\n",
    "    val_loss = validate_epoch(model, val_loader, criterion, device_manager.device)\n",
    "\n",
    "    if scheduler is not None:\n",
    "        if isinstance(scheduler, optim.lr_scheduler.ReduceLROnPlateau):\n",
    "            scheduler.step(val_loss)\n",
    "        else:\n",
    "            scheduler.step()\n",
    "\n",
    "    train_losses.append(train_loss)\n",
    "    val_losses.append(val_loss)\n",
    "\n",
    "    if val_loss < best_val_loss - 1e-6:\n",
    "        best_val_loss = val_loss\n",
    "        bad_epochs = 0\n",
    "        torch.save(model.state_dict(), '../../results/model_weights/best_promoter_cnn_optimized.pth')\n",
    "        print(f'🎯 New best model saved! Val Loss: {best_val_loss:.6f}')\n",
    "    else:\n",
    "        bad_epochs += 1\n",
    "        if bad_epochs >= max_bad_epochs:\n",
    "            print(f\"⏹️  Early stopping at epoch {epoch+1}. Best Val Loss: {best_val_loss:.6f}\")\n",
    "            break\n",
    "\n",
    "    current_lr = optimizer.param_groups[0]['lr']\n",
    "    epoch_time = time.time() - epoch_start\n",
    "\n",
    "    if epoch % 5 == 0 or epoch < 10 or bad_epochs >= max_bad_epochs - 3:\n",
    "        print(f'Epoch [{epoch+1:3d}/{num_epochs}] - Train: {train_loss:.6f}, Val: {val_loss:.6f}, '\n",
    "              f'LR: {current_lr:.2e}, Time: {epoch_time:.1f}s, Bad: {bad_epochs}/{max_bad_epochs}')\n",
    "\n",
    "total_training_time = time.time() - start_time\n",
    "print(f\"\\n✅ Training completed in {total_training_time:.1f} seconds ({total_training_time/60:.1f} minutes)\")\n",
    "print(f\"Best validation loss: {best_val_loss:.6f}\")\n",
    "print(f\"Total epochs trained: {len(train_losses)}\")"
   ]
  },
  {
   "cell_type": "code",
   "execution_count": 53,
   "id": "e1658298",
   "metadata": {},
   "outputs": [
    {
     "name": "stdout",
     "output_type": "stream",
     "text": [
      "\n",
      "================================================================================\n",
      "🎯 FINAL MODEL EVALUATION WITH OPTIMIZED HYPERPARAMETERS\n",
      "================================================================================\n",
      "Overall Accuracy: 0.3384\n",
      "\n",
      "Classification Report:\n",
      "               precision    recall  f1-score   support\n",
      "\n",
      "           0      0.000     0.000     0.000       131\n",
      "           1      0.339     0.998     0.506       563\n",
      "           2      0.000     0.000     0.000       175\n",
      "           3      0.000     0.000     0.000       339\n",
      "           4      0.000     0.000     0.000       453\n",
      "\n",
      "    accuracy                          0.338      1661\n",
      "   macro avg      0.068     0.200     0.101      1661\n",
      "weighted avg      0.115     0.338     0.171      1661\n",
      "\n",
      "Confusion Matrix:\n",
      " [[  0 131   0   0   0]\n",
      " [  0 562   0   1   0]\n",
      " [  0 175   0   0   0]\n",
      " [  0 339   0   0   0]\n",
      " [  0 453   0   0   0]]\n",
      "\n",
      "📋 MODEL SUMMARY:\n",
      "  Architecture: 2 blocks, 32 base channels\n",
      "  Parameters: 9,157\n",
      "  Training time: 69.0s\n",
      "  Epochs trained: 41\n",
      "  Final learning rate: 5.00e-04\n"
     ]
    }
   ],
   "source": [
    "# 📊 COMPREHENSIVE MODEL EVALUATION (Classification)\n",
    "print(f\"\\n\" + \"=\"*80)\n",
    "print(\"🎯 FINAL MODEL EVALUATION WITH OPTIMIZED HYPERPARAMETERS\")\n",
    "print(\"=\"*80)\n",
    "\n",
    "# Load best optimized model\n",
    "model.load_state_dict(torch.load('../../results/model_weights/best_promoter_cnn_optimized.pth', map_location=device_manager.device))\n",
    "logits, labels_np = evaluate_model(model, test_loader, device_manager.device)\n",
    "probs = torch.softmax(torch.from_numpy(logits), dim=1).numpy()\n",
    "preds = probs.argmax(axis=1)\n",
    "\n",
    "# Metrics\n",
    "from sklearn.metrics import accuracy_score, classification_report, confusion_matrix\n",
    "acc = accuracy_score(labels_np, preds)\n",
    "report = classification_report(labels_np, preds, digits=3)\n",
    "cm = confusion_matrix(labels_np, preds)\n",
    "\n",
    "metrics = {\n",
    "    'accuracy': acc,\n",
    "    'per_class_accuracy': (cm.diagonal() / cm.sum(axis=1).clip(min=1)).tolist()\n",
    "}\n",
    "\n",
    "print(f\"Overall Accuracy: {acc:.4f}\")\n",
    "print(\"\\nClassification Report:\\n\", report)\n",
    "print(\"Confusion Matrix:\\n\", cm)\n",
    "\n",
    "# Model summary\n",
    "print(f\"\\n📋 MODEL SUMMARY:\")\n",
    "print(f\"  Architecture: {model_depth} blocks, {base_channels} base channels\")\n",
    "print(f\"  Parameters: {total_params:,}\")\n",
    "print(f\"  Training time: {total_training_time:.1f}s\")\n",
    "print(f\"  Epochs trained: {len(train_losses)}\")\n",
    "print(f\"  Final learning rate: {optimizer.param_groups[0]['lr']:.2e}\")"
   ]
  },
  {
   "cell_type": "code",
   "execution_count": 54,
   "id": "50dc001e",
   "metadata": {},
   "outputs": [
    {
     "data": {
      "image/png": "[encoded data removed]",
      "text/plain": [
       "<Figure size 1200x500 with 2 Axes>"
      ]
     },
     "metadata": {},
     "output_type": "display_data"
    }
   ],
   "source": [
    "# Plot results\n",
    "plot_results(train_losses, val_losses, metrics)"
   ]
  },
  {
   "cell_type": "code",
   "execution_count": 55,
   "id": "08e6c363",
   "metadata": {},
   "outputs": [
    {
     "name": "stdout",
     "output_type": "stream",
     "text": [
      "\n",
      "==================================================\n",
      "TESTING PREDICTION FUNCTION\n",
      "==================================================\n",
      "Sample sequence length: 600\n",
      "Predicted class: 1 (confidence 0.36)\n",
      "Class probabilities: [0.0482 0.3635 0.1005 0.176  0.3118]\n",
      "\n",
      "Model saved as 'best_promoter_cnn_optimized.pth'\n",
      "Results plot saved as 'cnn_results.png'\n"
     ]
    }
   ],
   "source": [
    "# Quick prediction test (classification)\n",
    "print(f\"\\n\" + \"=\"*50)\n",
    "print(\"TESTING PREDICTION FUNCTION\")\n",
    "print(\"=\"*50)\n",
    "\n",
    "sample_seq = sequences[0]\n",
    "\n",
    "# Encode using dataset encoder for consistency\n",
    "_tmp_ds = PromoterClassificationDataset([sample_seq], np.array([0]))\n",
    "encoded = device_manager.to_device(torch.FloatTensor(_tmp_ds.encode_sequence(sample_seq)).unsqueeze(0))\n",
    "\n",
    "with torch.no_grad():\n",
    "    logits = model(encoded)\n",
    "    probs = torch.softmax(logits, dim=1).cpu().numpy()[0]\n",
    "\n",
    "pred_class = int(np.argmax(probs))\n",
    "conf = float(np.max(probs))\n",
    "\n",
    "print(f\"Sample sequence length: {len(sample_seq)}\")\n",
    "print(f\"Predicted class: {pred_class} (confidence {conf:.2f})\")\n",
    "print(f\"Class probabilities: {np.round(probs, 4)}\")\n",
    "\n",
    "print(f\"\\nModel saved as 'best_promoter_cnn_optimized.pth'\")\n",
    "print(f\"Results plot saved as 'cnn_results.png'\")"
   ]
  }
 ],
 "metadata": {
  "kernelspec": {
   "display_name": "Python 3",
   "language": "python",
   "name": "python3"
  },
  "language_info": {
   "codemirror_mode": {
    "name": "ipython",
    "version": 3
   },
   "file_extension": ".py",
   "mimetype": "text/x-python",
   "name": "python",
   "nbconvert_exporter": "python",
   "pygments_lexer": "ipython3",
   "version": "3.11.11"
  }
 },
 "nbformat": 4,
 "nbformat_minor": 5
}
